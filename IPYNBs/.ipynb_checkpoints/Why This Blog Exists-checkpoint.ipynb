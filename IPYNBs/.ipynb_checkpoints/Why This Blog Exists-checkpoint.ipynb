{
 "cells": [
  {
   "cell_type": "markdown",
   "metadata": {},
   "source": [
    "The reason I am making this blog is because I have been looking into how a person can become a data scientist and I could not find adqeuate information. With this blog, I hope to demonstrate how one transitions from an academic scientist to a data scientist. I hope that I can shed some light on the necessary steps required to land a position in data science. \n",
    "    \n",
    "My current skills include (1 to 5, 5 highest):\n",
    "    \n",
    "    a) SQL              -- 2\n",
    "    B) Perl             -- 4\n",
    "    C) Python           -- 3\n",
    "    D) Stats            -- 3\n",
    "    E) R                -- 4\n",
    "    F) ML techniques    -- 1\n",
    "    G) Data Structures* -- 1\n",
    "    F) Recursion/search -- 1\n",
    "\n",
    "To gain the skils needed, I need to bring most of these up to a level four. In order to do that, I have enrolled myself in the Immersive Galvanize DS Bootcamp < link: http://galvanize.com/courses/data-science/>. The course involves me attending class five days a week 9am through 6:30pm. \n",
    "\n",
    "This is the syllabus for the course:\n",
    "\n",
    "    Week 1 - Exploratory Data Analysis and Software Engineering Best Practices\n",
    "    Week 2 - Statistical Inference, Bayesian Methods, A/B Testing, Multi-Armed Bandit\n",
    "    Week 3 - Regression, Regularization, Gradient Descent\n",
    "    Week 4 - Supervised Machine Learning: Classification, Validation, Ensemble Methods\n",
    "    Week 5 - Clustering, Topic Modeling (NMF, LDA), NLP\n",
    "    Week 6 - Network Analysis, Matrix Factorization, and Time Series\n",
    "    Week 7 - Hadoop, Hive, and MapReduce\n",
    "    Week 8 - Data Visualization with D3.js, Data Products, and Fraud Detection Case Study\n",
    "\n",
    "During each week,\n",
    "A) Summarize what I learned and B) I will highlight one or two examples to share\n",
    "\n",
    "In the (unlikley) event I have free time, I will do a similar analysis online on freely available data. \n",
    "\n",
    "\n",
    "*I frequently use arrays and hashes. I know of trees, stacks, and queues, but I have not used them often. "
   ]
  }
 ],
 "metadata": {
  "kernelspec": {
   "display_name": "Python 3",
   "language": "python",
   "name": "python3"
  },
  "language_info": {
   "codemirror_mode": {
    "name": "ipython",
    "version": 3
   },
   "file_extension": ".py",
   "mimetype": "text/x-python",
   "name": "python",
   "nbconvert_exporter": "python",
   "pygments_lexer": "ipython3",
   "version": "3.4.3"
  }
 },
 "nbformat": 4,
 "nbformat_minor": 0
}
